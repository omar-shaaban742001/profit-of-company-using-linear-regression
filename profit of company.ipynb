{
 "cells": [
  {
   "cell_type": "code",
   "execution_count": 227,
   "id": "7bbdcff8",
   "metadata": {},
   "outputs": [],
   "source": [
    "#import libraries\n",
    "import numpy as np\n",
    "import pandas as pd\n",
    "import matplotlib.pyplot as plt\n",
    "import seaborn as sns\n",
    "%matplotlib inline\n",
    "import os "
   ]
  },
  {
   "cell_type": "code",
   "execution_count": 228,
   "id": "6da3fd91",
   "metadata": {
    "scrolled": true
   },
   "outputs": [
    {
     "data": {
      "text/html": [
       "<div>\n",
       "<style scoped>\n",
       "    .dataframe tbody tr th:only-of-type {\n",
       "        vertical-align: middle;\n",
       "    }\n",
       "\n",
       "    .dataframe tbody tr th {\n",
       "        vertical-align: top;\n",
       "    }\n",
       "\n",
       "    .dataframe thead th {\n",
       "        text-align: right;\n",
       "    }\n",
       "</style>\n",
       "<table border=\"1\" class=\"dataframe\">\n",
       "  <thead>\n",
       "    <tr style=\"text-align: right;\">\n",
       "      <th></th>\n",
       "      <th>R&amp;D Spend</th>\n",
       "      <th>Administration</th>\n",
       "      <th>Marketing Spend</th>\n",
       "      <th>State</th>\n",
       "      <th>Profit</th>\n",
       "    </tr>\n",
       "  </thead>\n",
       "  <tbody>\n",
       "    <tr>\n",
       "      <th>0</th>\n",
       "      <td>165349.20</td>\n",
       "      <td>136897.80</td>\n",
       "      <td>471784.10</td>\n",
       "      <td>New York</td>\n",
       "      <td>192261.83</td>\n",
       "    </tr>\n",
       "    <tr>\n",
       "      <th>1</th>\n",
       "      <td>162597.70</td>\n",
       "      <td>151377.59</td>\n",
       "      <td>443898.53</td>\n",
       "      <td>California</td>\n",
       "      <td>191792.06</td>\n",
       "    </tr>\n",
       "    <tr>\n",
       "      <th>2</th>\n",
       "      <td>153441.51</td>\n",
       "      <td>101145.55</td>\n",
       "      <td>407934.54</td>\n",
       "      <td>Florida</td>\n",
       "      <td>191050.39</td>\n",
       "    </tr>\n",
       "    <tr>\n",
       "      <th>3</th>\n",
       "      <td>144372.41</td>\n",
       "      <td>118671.85</td>\n",
       "      <td>383199.62</td>\n",
       "      <td>New York</td>\n",
       "      <td>182901.99</td>\n",
       "    </tr>\n",
       "    <tr>\n",
       "      <th>4</th>\n",
       "      <td>142107.34</td>\n",
       "      <td>91391.77</td>\n",
       "      <td>366168.42</td>\n",
       "      <td>Florida</td>\n",
       "      <td>166187.94</td>\n",
       "    </tr>\n",
       "  </tbody>\n",
       "</table>\n",
       "</div>"
      ],
      "text/plain": [
       "   R&D Spend  Administration  Marketing Spend       State     Profit\n",
       "0  165349.20       136897.80        471784.10    New York  192261.83\n",
       "1  162597.70       151377.59        443898.53  California  191792.06\n",
       "2  153441.51       101145.55        407934.54     Florida  191050.39\n",
       "3  144372.41       118671.85        383199.62    New York  182901.99\n",
       "4  142107.34        91391.77        366168.42     Florida  166187.94"
      ]
     },
     "execution_count": 228,
     "metadata": {},
     "output_type": "execute_result"
    }
   ],
   "source": [
    "#importing data \n",
    "companies = pd.read_csv(\"E:\\python_for_ai\\python projects\\linear regression\\profit of company using linear regression/1000_Companies.csv\")\n",
    "X  = companies.iloc[: , :-1].values\n",
    "Y = companies.iloc[:, 4].values\n",
    "\n",
    "companies.head()"
   ]
  },
  {
   "cell_type": "code",
   "execution_count": 229,
   "id": "e1ea56e8",
   "metadata": {},
   "outputs": [
    {
     "data": {
      "text/plain": [
       "array([[165349.2, 136897.8, 471784.1, 'New York'],\n",
       "       [162597.7, 151377.59, 443898.53, 'California'],\n",
       "       [153441.51, 101145.55, 407934.54, 'Florida'],\n",
       "       ...,\n",
       "       [100275.47, 241926.31, 227142.82, 'California'],\n",
       "       [128456.23, 321652.14, 281692.32, 'California'],\n",
       "       [161181.72, 270939.86, 295442.17, 'New York']], dtype=object)"
      ]
     },
     "execution_count": 229,
     "metadata": {},
     "output_type": "execute_result"
    }
   ],
   "source": [
    "X"
   ]
  },
  {
   "cell_type": "code",
   "execution_count": 230,
   "id": "fa0a312f",
   "metadata": {},
   "outputs": [
    {
     "data": {
      "text/plain": [
       "numpy.ndarray"
      ]
     },
     "execution_count": 230,
     "metadata": {},
     "output_type": "execute_result"
    }
   ],
   "source": [
    "type(X)"
   ]
  },
  {
   "cell_type": "code",
   "execution_count": 231,
   "id": "0e4d54e5",
   "metadata": {},
   "outputs": [
    {
     "data": {
      "text/plain": [
       "R&D Spend          float64\n",
       "Administration     float64\n",
       "Marketing Spend    float64\n",
       "State               object\n",
       "Profit             float64\n",
       "dtype: object"
      ]
     },
     "execution_count": 231,
     "metadata": {},
     "output_type": "execute_result"
    }
   ],
   "source": [
    "companies.dtypes"
   ]
  },
  {
   "cell_type": "code",
   "execution_count": 232,
   "id": "b26da2d7",
   "metadata": {},
   "outputs": [
    {
     "data": {
      "text/plain": [
       "<AxesSubplot:>"
      ]
     },
     "execution_count": 232,
     "metadata": {},
     "output_type": "execute_result"
    },
    {
     "data": {
      "image/png": "[encoded data removed]",
      "text/plain": [
       "<Figure size 432x288 with 2 Axes>"
      ]
     },
     "metadata": {
      "needs_background": "light"
     },
     "output_type": "display_data"
    }
   ],
   "source": [
    "#data visualisation\n",
    "sns.heatmap(companies.corr() , annot= True)"
   ]
  },
  {
   "cell_type": "code",
   "execution_count": 233,
   "id": "5008182a",
   "metadata": {},
   "outputs": [],
   "source": [
    "from sklearn.preprocessing import OneHotEncoder\n",
    "\n",
    "from sklearn.compose import ColumnTransformer\n",
    "\n",
    "columnTransformer = ColumnTransformer([('encoder', OneHotEncoder(), [3])], remainder='passthrough')\n",
    "\n",
    "X = np.array(columnTransformer.fit_transform(X))\n",
    "X = X[:, 1:]\n",
    "X = pd.DataFrame(X)"
   ]
  },
  {
   "cell_type": "code",
   "execution_count": 250,
   "id": "1e1a9f14",
   "metadata": {},
   "outputs": [],
   "source": [
    "#Spliting data\n",
    "from sklearn.model_selection import train_test_split\n",
    "X_train , X_test , y_train , y_test = train_test_split (X, Y , test_size = 0.3, random_state=40) "
   ]
  },
  {
   "cell_type": "code",
   "execution_count": 251,
   "id": "57e33d52",
   "metadata": {},
   "outputs": [
    {
     "data": {
      "text/plain": [
       "(700, 5)"
      ]
     },
     "execution_count": 251,
     "metadata": {},
     "output_type": "execute_result"
    }
   ],
   "source": [
    "#traning model \n",
    "from sklearn.linear_model import LinearRegression\n",
    "model_fit = LinearRegression()\n",
    "model_fit.fit(X_train , y_train)\n",
    "X_train.shape"
   ]
  },
  {
   "cell_type": "code",
   "execution_count": 252,
   "id": "37544cc8",
   "metadata": {},
   "outputs": [
    {
     "data": {
      "text/html": [
       "<div>\n",
       "<style scoped>\n",
       "    .dataframe tbody tr th:only-of-type {\n",
       "        vertical-align: middle;\n",
       "    }\n",
       "\n",
       "    .dataframe tbody tr th {\n",
       "        vertical-align: top;\n",
       "    }\n",
       "\n",
       "    .dataframe thead th {\n",
       "        text-align: right;\n",
       "    }\n",
       "</style>\n",
       "<table border=\"1\" class=\"dataframe\">\n",
       "  <thead>\n",
       "    <tr style=\"text-align: right;\">\n",
       "      <th></th>\n",
       "      <th>0</th>\n",
       "      <th>1</th>\n",
       "      <th>2</th>\n",
       "      <th>3</th>\n",
       "      <th>4</th>\n",
       "    </tr>\n",
       "  </thead>\n",
       "  <tbody>\n",
       "    <tr>\n",
       "      <th>154</th>\n",
       "      <td>1.0</td>\n",
       "      <td>0.0</td>\n",
       "      <td>103756.0</td>\n",
       "      <td>125780.2543</td>\n",
       "      <td>268976.5245</td>\n",
       "    </tr>\n",
       "    <tr>\n",
       "      <th>715</th>\n",
       "      <td>0.0</td>\n",
       "      <td>1.0</td>\n",
       "      <td>15132.0</td>\n",
       "      <td>112691.8583</td>\n",
       "      <td>97976.2745</td>\n",
       "    </tr>\n",
       "    <tr>\n",
       "      <th>680</th>\n",
       "      <td>0.0</td>\n",
       "      <td>1.0</td>\n",
       "      <td>57784.0</td>\n",
       "      <td>118990.8999</td>\n",
       "      <td>180273.425</td>\n",
       "    </tr>\n",
       "    <tr>\n",
       "      <th>129</th>\n",
       "      <td>0.0</td>\n",
       "      <td>1.0</td>\n",
       "      <td>73077.0</td>\n",
       "      <td>121249.4398</td>\n",
       "      <td>209781.3102</td>\n",
       "    </tr>\n",
       "    <tr>\n",
       "      <th>760</th>\n",
       "      <td>0.0</td>\n",
       "      <td>0.0</td>\n",
       "      <td>22449.0</td>\n",
       "      <td>113772.4662</td>\n",
       "      <td>112094.446</td>\n",
       "    </tr>\n",
       "  </tbody>\n",
       "</table>\n",
       "</div>"
      ],
      "text/plain": [
       "       0    1         2            3            4\n",
       "154  1.0  0.0  103756.0  125780.2543  268976.5245\n",
       "715  0.0  1.0   15132.0  112691.8583   97976.2745\n",
       "680  0.0  1.0   57784.0  118990.8999   180273.425\n",
       "129  0.0  1.0   73077.0  121249.4398  209781.3102\n",
       "760  0.0  0.0   22449.0  113772.4662   112094.446"
      ]
     },
     "execution_count": 252,
     "metadata": {},
     "output_type": "execute_result"
    }
   ],
   "source": [
    "X_train.head()"
   ]
  },
  {
   "cell_type": "code",
   "execution_count": 253,
   "id": "894fd3c9",
   "metadata": {},
   "outputs": [
    {
     "data": {
      "text/plain": [
       "array([ 90153.55504548, 145567.48770503,  55239.70890463,  83859.49485781,\n",
       "       178905.74463721,  59101.68201689, 131749.4654802 , 149838.51855157,\n",
       "       108635.29725583,  97985.47912554, 110972.56809553, 184028.43549485,\n",
       "       174329.61815987, 155467.26302845, 171954.30041158, 173830.5411457 ,\n",
       "       163031.73739261, 155167.55424787, 118410.57473209,  53174.44119777,\n",
       "        64167.4436944 , 160186.76984338,  95582.20340538, 173675.38756284,\n",
       "       124022.21413322,  97202.69550809, 102903.23758309, 179874.63173652,\n",
       "        58731.64487674,  85298.11262864, 164357.43786842,  90864.18832426,\n",
       "       122251.74033967,  91431.36061281, 147484.87041055, 173798.52799117,\n",
       "        63384.52576197, 100815.30637834,  59561.10878971,  61185.04869953,\n",
       "       164747.90749916, 175979.6716724 , 109835.75820901,  54705.66636439,\n",
       "        60949.35752105,  51664.40315288, 154599.52008786, 133339.78861602,\n",
       "        86503.13809451, 108845.61640658, 135949.69491505, 104596.74189593,\n",
       "       105313.89576635,  91197.76831728, 158860.69434311,  50976.81069039,\n",
       "       129385.35326901, 144572.29454291, 103295.05603184, 177437.85982839,\n",
       "       183487.86375932, 147756.38899222, 101139.65952403, 151108.56651295,\n",
       "       111141.51303841, 130677.46296104, 113838.97312453,  72628.48095144,\n",
       "       161191.44458175, 143889.24399359,  98625.31099264,  93872.92904274,\n",
       "       111645.88234912, 163653.21337758, 166324.55974825, 162113.25909126,\n",
       "       114759.17538675, 168669.8430318 , 154246.97685222, 185262.76776001,\n",
       "       161763.30168796, 185452.65453574, 147263.83257911, 126612.16081604,\n",
       "       168634.50247844, 162630.43737704,  99454.52017764,  98075.86483284,\n",
       "        94407.7217437 , 121711.20503969,  59812.54752273,  89897.67220806,\n",
       "        52304.8423833 , 109888.59266406, 155247.46220191, 116531.49344614,\n",
       "        71115.73437954, 104500.08149771,  69113.13763137,  72884.10906937,\n",
       "       180374.82545061, 111353.67656397, 185930.18246554, 136478.07872851,\n",
       "        53785.95094824, 141251.63461992, 159499.5299148 , 112011.23455982,\n",
       "        80295.39474838,  83085.45134025, 201865.33252498, 109776.28273896,\n",
       "        76683.76615411,  87284.07733715,  82402.89645669,  94734.15138228,\n",
       "       156047.24429207, 141362.08637816,  59385.01349051, 133863.74240009,\n",
       "        76551.88572545,  80468.04223294,  71871.42200556, 168269.15026774,\n",
       "       124348.52335786, 163612.7010506 ,  51306.68824976, 182111.68254271,\n",
       "        93293.80976898, 131103.24721804,  58433.66005796, 139504.80900504,\n",
       "       150984.44369024, 144135.88608264, 177108.58963799,  78636.36900847,\n",
       "        72590.5101707 ,  63793.35138381, 160931.50656165, 124310.7173767 ,\n",
       "        81284.80887594,  70378.38013379, 161328.87192689,  80180.63318753,\n",
       "       128838.83844954,  91782.66673458, 107587.14922472,  97454.76399072,\n",
       "       186395.26785334, 106532.71271063,  83018.21815527, 121813.86275642,\n",
       "       113951.47016137, 175228.03921963,  92831.18990855, 185748.91539459,\n",
       "        90158.23998153, 181647.08410146,  86093.70522115,  65595.34266614,\n",
       "       141957.70348557, 140926.67422272, 213343.69974396, 140126.92762888,\n",
       "       167664.79316   ,  50971.38429965, 162324.92706944, 114217.86208473,\n",
       "        86236.30433992, 166770.93662235,  50635.95993748, 114820.4952316 ,\n",
       "        78766.1504518 ,  74411.88413401, 136318.73587537, 165910.20983018,\n",
       "       106205.04606716, 102946.8225894 , 143284.52056176,  99601.66131666,\n",
       "       137944.05150011,  77564.94793212,  60160.78096517,  78046.53104459,\n",
       "       160411.36731012,  50987.15424048, 141366.39618077, 162879.5448939 ,\n",
       "        57220.01500193,  89199.36105734,  62333.18453145, 101445.40205868,\n",
       "       127888.60885557,  56883.47393418, 129908.19016599, 138196.3478204 ,\n",
       "        87067.23759476, 182934.85808262, 155084.55101309,  83165.98915664,\n",
       "        60656.6648889 , 174409.78083341,  56807.7415711 , 182775.0196821 ,\n",
       "       146260.01971221,  71770.82683861,  64663.68015674, 168134.93861728,\n",
       "       152407.54602179, 123575.71685461,  65006.99643607,  56872.38881478,\n",
       "        74628.72388581, 137314.55879087, 147568.96774385,  87951.3577277 ,\n",
       "       113406.87446688,  67584.7553058 , 106724.81017583,  69239.8462864 ,\n",
       "       162766.37992153, 173441.79537628,  92422.24387277,  51539.29804761,\n",
       "        76742.3797527 ,  54486.35249194,  70699.15115174,  57012.88894351,\n",
       "        82067.47208886,  75186.789632  , 143392.26596475, 132886.05375412,\n",
       "       163963.52032537, 147247.83030226, 172466.05230378, 185683.40617048,\n",
       "        52715.13712812,  88617.53542834,  82734.75247942,  55180.23332655,\n",
       "        91502.90359099,  90597.84152564,  99557.0939254 ,  72550.04223878,\n",
       "        87757.29547375,  94420.39651276, 137614.14715751, 112570.76953796,\n",
       "        74655.5652573 , 120936.12879117, 138771.88496642,  53409.75964102,\n",
       "       115512.65221432, 165046.52206284, 100847.19911894, 162448.30832565,\n",
       "       170462.84829467, 167686.46264888,  97866.40767194,  56026.68190981,\n",
       "        66354.73283383, 106920.47598613, 158784.84146277,  92977.72378663,\n",
       "       181886.45532259,  79736.84215519, 135860.05066527, 129903.13879688,\n",
       "       174647.56240864, 121847.22462   , 115347.15518375, 150767.715652  ,\n",
       "       162146.87569317, 121063.09217512, 117404.54247534, 155378.36035459,\n",
       "       118162.20868216, 156791.2395434 , 135701.56979256, 128567.95686322,\n",
       "       182310.79626532, 102016.76361751,  53629.56035859,  55477.61088909,\n",
       "        91814.5593662 , 128926.53375336, 139222.94676714, 143321.20983357,\n",
       "       127971.35737085,  57053.28086126,  59681.52907262,  76747.97694197,\n",
       "       130153.10840315, 170165.72546481, 137042.17822877, 128109.39207648,\n",
       "        82208.34724677, 151815.00170268,  88258.95842922, 105673.21433196])"
      ]
     },
     "execution_count": 253,
     "metadata": {},
     "output_type": "execute_result"
    }
   ],
   "source": [
    "#predicting the data set \n",
    "y_pred = model_fit.predict(X_test)\n",
    "y_pred"
   ]
  },
  {
   "cell_type": "code",
   "execution_count": 254,
   "id": "6064d9c1",
   "metadata": {},
   "outputs": [
    {
     "data": {
      "text/plain": [
       "array([-2.69540001e+02,  2.44677310e+02,  5.19248973e-01,  1.08971785e+00,\n",
       "        9.42110048e-02])"
      ]
     },
     "execution_count": 254,
     "metadata": {},
     "output_type": "execute_result"
    }
   ],
   "source": [
    "#calculating the coefs\n",
    "model_fit.coef_"
   ]
  },
  {
   "cell_type": "code",
   "execution_count": 255,
   "id": "1ad2f835",
   "metadata": {},
   "outputs": [
    {
     "data": {
      "text/plain": [
       "-77863.97762590375"
      ]
     },
     "execution_count": 255,
     "metadata": {},
     "output_type": "execute_result"
    }
   ],
   "source": [
    "#calculating intercept\n",
    "model_fit.intercept_"
   ]
  },
  {
   "cell_type": "code",
   "execution_count": 256,
   "id": "ccaa40f5",
   "metadata": {},
   "outputs": [
    {
     "data": {
      "text/plain": [
       "0.9837629290447826"
      ]
     },
     "execution_count": 256,
     "metadata": {},
     "output_type": "execute_result"
    }
   ],
   "source": [
    "#calculating the error\n",
    "from sklearn.metrics import r2_score\n",
    "r2_score(y_pred,y_test)"
   ]
  },
  {
   "cell_type": "code",
   "execution_count": 257,
   "id": "673bb4f2",
   "metadata": {},
   "outputs": [
    {
     "data": {
      "image/png": "[encoded data removed]",
      "text/plain": [
       "<Figure size 432x288 with 1 Axes>"
      ]
     },
     "metadata": {
      "needs_background": "light"
     },
     "output_type": "display_data"
    }
   ],
   "source": [
    "#plot final resutl \n",
    "sns.regplot(x=y_pred , y = y_test)\n",
    "plt.xlabel(\"predicted price\")\n",
    "plt.ylabel(\"actual price\")\n",
    "plt.title(\"Actual vs predicted price\")\n",
    "plt.show()\n"
   ]
  }
 ],
 "metadata": {
  "kernelspec": {
   "display_name": "Python 3 (ipykernel)",
   "language": "python",
   "name": "python3"
  },
  "language_info": {
   "codemirror_mode": {
    "name": "ipython",
    "version": 3
   },
   "file_extension": ".py",
   "mimetype": "text/x-python",
   "name": "python",
   "nbconvert_exporter": "python",
   "pygments_lexer": "ipython3",
   "version": "3.9.12"
  }
 },
 "nbformat": 4,
 "nbformat_minor": 5
}
